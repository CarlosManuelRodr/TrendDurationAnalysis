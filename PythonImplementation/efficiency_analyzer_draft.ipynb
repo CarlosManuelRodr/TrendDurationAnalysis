{
 "cells": [
  {
   "cell_type": "markdown",
   "id": "ancient-subscription",
   "metadata": {},
   "source": [
    "# Implementation"
   ]
  },
  {
   "cell_type": "code",
   "execution_count": null,
   "id": "ignored-presentation",
   "metadata": {},
   "outputs": [],
   "source": [
    "import pandas\n",
    "import numpy as np\n",
    "import matplotlib.pyplot as plt\n",
    "import matplotlib.dates as mdates\n",
    "import matplotlib.patches as mpatches\n",
    "import matplotlib.lines as mlines\n",
    "import more_itertools as mit\n",
    "import datetime\n",
    "from scipy import interpolate\n",
    "from math import pow"
   ]
  },
  {
   "cell_type": "code",
   "execution_count": null,
   "id": "soviet-vegetation",
   "metadata": {},
   "outputs": [],
   "source": [
    "def GetPrices(tickerPath):\n",
    "    data = pandas.read_csv(tickerPath)\n",
    "    return np.array(data[\"close\"])\n",
    "\n",
    "def GetDates(tickerPath):\n",
    "    data = pandas.read_csv(tickerPath)\n",
    "    return np.array(data[\"date\"])"
   ]
  },
  {
   "cell_type": "code",
   "execution_count": null,
   "id": "incorporate-lunch",
   "metadata": {},
   "outputs": [],
   "source": [
    "def TrendDuration(prices):\n",
    "    returns = np.diff(prices)\n",
    "    trendSigns = np.sign(returns).tolist()\n",
    "    fixedTrendSigns = [x for x in trendSigns if x != 0.0]\n",
    "    trendStartPoints = np.insert(np.where(np.diff(fixedTrendSigns))[0], 0, -1)\n",
    "    trendDuration = np.diff(trendStartPoints)\n",
    "    fixForGeometricModel = trendDuration - 1\n",
    "    return fixForGeometricModel.tolist()\n",
    "\n",
    "def ModelP(j):\n",
    "    modelP = 0.5\n",
    "    for i in range(j):\n",
    "        modelP /= 2.0\n",
    "    return modelP\n",
    "\n",
    "def PEstimator(trendDurations, j):\n",
    "    return trendDurations.count(j)/len(testData)\n",
    "\n",
    "def Z(trendDurations, j):\n",
    "    n = len(trendDurations)\n",
    "    sjSum = 0.0\n",
    "    tjSum = 0.0\n",
    "    \n",
    "    for i in range(j+1):\n",
    "        sjSum += trendDurations.count(i)\n",
    "        tjSum += n*ModelP(i)\n",
    "    \n",
    "        \n",
    "    return sjSum - tjSum\n",
    "\n",
    "def GeometricCramerVonMisesTest(trendDurations):\n",
    "    testScore = 0.0\n",
    "    n = len(trendDurations)\n",
    "    m = max(trendDurations)\n",
    "    for j in range(m+1):\n",
    "        testScore += pow(Z(trendDurations, j), 2) * ModelP(j)\n",
    "        \n",
    "    return testScore / n\n",
    "\n",
    "pValData = pandas.read_csv(\"testScoreToPValuePts.csv\")\n",
    "[testValue, pValue] = np.transpose(np.array(pValData)).tolist()\n",
    "minTestValue = min(testValue)\n",
    "maxTestValue = max(testValue)\n",
    "pValueFunction = interpolate.interp1d(testValue, pValue)\n",
    "\n",
    "def GeometricCramerVonMisesPValue(trendDurations):\n",
    "    testStatistic = GeometricCramerVonMisesTest(trendDurations)\n",
    "    if minTestValue <= testStatistic <= maxTestValue:\n",
    "        return float(pValueFunction(testStatistic))\n",
    "    else:\n",
    "        return 0.0"
   ]
  },
  {
   "cell_type": "code",
   "execution_count": null,
   "id": "italic-manual",
   "metadata": {},
   "outputs": [],
   "source": [
    "def IsNotNone(dataPoint):\n",
    "    return not dataPoint is None\n",
    "\n",
    "def Partition(listToPartition, partSize, step):\n",
    "    partitions = list(mit.windowed(listToPartition, n = partSize, step = step))\n",
    "    partitions = [np.array(list(filter(IsNotNone, p))) for p in partitions]\n",
    "    return partitions"
   ]
  },
  {
   "cell_type": "code",
   "execution_count": null,
   "id": "great-radius",
   "metadata": {},
   "outputs": [],
   "source": [
    "def TestPartition(part):\n",
    "    date = part[:,0][-1]\n",
    "    prices = part[:,1].astype(float)\n",
    "    pVal = GeometricCramerVonMisesPValue(TrendDuration(prices))\n",
    "    return [date, pVal]\n",
    "\n",
    "def TestModelInTime(datedPrices, partSize, step):\n",
    "    partitions = Partition(datedPrices, partSize, step)\n",
    "    testResults = [TestPartition(part) for part in partitions]\n",
    "    return testResults\n",
    "\n",
    "def TestModelLatestAtWindow(closePrices, window):\n",
    "    lastChunk = closePrices[-window:-1]\n",
    "    pValue = GeometricCramerVonMisesPValue(TrendDuration(lastChunk))\n",
    "    testResult = \"Eficiente\" if pValue >= 0.05 else \"No Eficiente\"\n",
    "    return [window, pValue, testResult]\n",
    "\n",
    "def TestModelLatest(closePrices):\n",
    "    latestTestResults = [TestModelLatestAtWindow(closePrices, w) for w in range(20, 110, 10)]\n",
    "    return pandas.DataFrame(latestTestResults, columns=[\"Cantidad de días\", \"P-Valor\", \"Interpretación\"])#.style.hide_index()\n",
    "\n",
    "def PlotTestModelInTimeResults(testResults, stockName, saveOutputPath = None):\n",
    "    [dates, pValues] = np.transpose(testResults)\n",
    "    xPlotValues = [datetime.datetime.strptime(d,\"%Y-%m-%d\").date() for d in dates]\n",
    "    yPlotValues = pValues.astype(float).tolist()\n",
    "    \n",
    "    ax = plt.gca()\n",
    "    formatter = mdates.DateFormatter(\"%Y-%m-%d\")\n",
    "    ax.xaxis.set_major_formatter(formatter)\n",
    "    ax.hlines([0.1, 0.05, 0.01], \n",
    "              xmin=mdates.date2num(xPlotValues[0]), \n",
    "              xmax=mdates.date2num(xPlotValues[-1]), \n",
    "              colors=['y','r','g'], \n",
    "              linestyle='--')\n",
    "\n",
    "\n",
    "    yellow_patch = mlines.Line2D([], [], color='yellow', label='CL: 0.1', linestyle='--')\n",
    "    red_patch = mlines.Line2D([], [], color='red', label='CL: 0.05', linestyle='--')\n",
    "    green_patch = mlines.Line2D([], [], color='green', label='CL: 0.01', linestyle='--')\n",
    "    plt.legend(handles=[yellow_patch, red_patch, green_patch])\n",
    "\n",
    "    plt.rcParams['figure.figsize'] = [10, 5]\n",
    "    plt.yscale(\"log\")\n",
    "    plt.title(stockName)\n",
    "    plt.xlabel(\"Date\")\n",
    "    plt.ylabel(\"p-value\")\n",
    "    plt.plot(xPlotValues, yPlotValues)\n",
    "    \n",
    "    if saveOutputPath is not None:\n",
    "        plt.savefig(saveOutputPath)\n",
    "        \n",
    "    plt.clf()"
   ]
  },
  {
   "cell_type": "code",
   "execution_count": null,
   "id": "living-yacht",
   "metadata": {},
   "outputs": [],
   "source": [
    "def GenerateReport(ticker):\n",
    "    dates = GetDates(\"SP500/\" + ticker + \".csv\")\n",
    "    closePrices = GetPrices(\"SP500/\" + ticker + \".csv\")\n",
    "    datedPrices = np.transpose([dates,closePrices]).tolist()\n",
    "    TestModelLatest(closePrices).to_csv(\"ModelResults/\" + ticker + \"_Report.csv\", index=False)\n",
    "    PlotTestModelInTimeResults(TestModelInTime(datedPrices, 100, 1), ticker, \"ModelResults/\" + ticker + \"_Plot.png\")"
   ]
  },
  {
   "cell_type": "code",
   "execution_count": null,
   "id": "macro-module",
   "metadata": {},
   "outputs": [],
   "source": [
    "GenerateReport('CMG')"
   ]
  },
  {
   "cell_type": "markdown",
   "id": "mobile-occasions",
   "metadata": {},
   "source": [
    "# Testing"
   ]
  },
  {
   "cell_type": "code",
   "execution_count": null,
   "id": "velvet-detection",
   "metadata": {},
   "outputs": [],
   "source": [
    "dates = GetDates(\"SP500/CMG.csv\")\n",
    "closePrices = GetPrices(\"SP500/CMG.csv\")\n",
    "datedPrices = np.transpose([dates,closePrices]).tolist()"
   ]
  },
  {
   "cell_type": "code",
   "execution_count": null,
   "id": "congressional-birthday",
   "metadata": {},
   "outputs": [],
   "source": [
    "lastChunk = closePrices[-10:-1]"
   ]
  },
  {
   "cell_type": "code",
   "execution_count": null,
   "id": "paperback-drove",
   "metadata": {},
   "outputs": [],
   "source": [
    "TrendDuration(lastChunk)"
   ]
  },
  {
   "cell_type": "code",
   "execution_count": null,
   "id": "swedish-blackjack",
   "metadata": {},
   "outputs": [],
   "source": [
    "TestModelLatestAtWindow(closePrices, 10)"
   ]
  },
  {
   "cell_type": "code",
   "execution_count": null,
   "id": "exclusive-burlington",
   "metadata": {},
   "outputs": [],
   "source": [
    "PlotTestModelInTimeResults(TestModelInTime(datedPrices, 100, 1), 'AAPL')"
   ]
  }
 ],
 "metadata": {
  "kernelspec": {
   "display_name": "Python 3",
   "language": "python",
   "name": "python3"
  },
  "language_info": {
   "codemirror_mode": {
    "name": "ipython",
    "version": 3
   },
   "file_extension": ".py",
   "mimetype": "text/x-python",
   "name": "python",
   "nbconvert_exporter": "python",
   "pygments_lexer": "ipython3",
   "version": "3.7.9"
  }
 },
 "nbformat": 4,
 "nbformat_minor": 5
}
