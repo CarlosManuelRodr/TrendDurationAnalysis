{
 "cells": [
  {
   "cell_type": "code",
   "execution_count": 164,
   "id": "ignored-presentation",
   "metadata": {},
   "outputs": [],
   "source": [
    "import pandas\n",
    "import numpy as np\n",
    "import matplotlib.pyplot as plt\n",
    "import more_itertools as mit\n",
    "from scipy import interpolate\n",
    "from math import pow"
   ]
  },
  {
   "cell_type": "code",
   "execution_count": 151,
   "id": "soviet-vegetation",
   "metadata": {},
   "outputs": [],
   "source": [
    "def GetPrices(tickerPath):\n",
    "    data = pandas.read_csv(tickerPath)\n",
    "    return np.array(data[\"close\"])\n",
    "\n",
    "def GetDates(tickerPath):\n",
    "    data = pandas.read_csv(tickerPath)\n",
    "    return np.array(data[\"date\"])"
   ]
  },
  {
   "cell_type": "code",
   "execution_count": 149,
   "id": "incorporate-lunch",
   "metadata": {},
   "outputs": [],
   "source": [
    "def TrendDuration(prices):\n",
    "    returns = np.diff(closePrices)\n",
    "    trendSigns = np.sign(returns).tolist()\n",
    "    fixedTrendSigns = [x for x in trendSigns if x != 0.0]\n",
    "    trendStartPoints = np.insert(np.where(np.diff(fixedTrendSigns))[0], 0, -1)\n",
    "    trendDuration = np.diff(trendStartPoints)\n",
    "    fixForGeometricModel = trendDuration - 1\n",
    "    return fixForGeometricModel.tolist()\n",
    "\n",
    "def ModelP(j):\n",
    "    modelP = 0.5\n",
    "    for i in range(j):\n",
    "        modelP /= 2.0\n",
    "    return modelP\n",
    "\n",
    "def PEstimator(trendDurations, j):\n",
    "    return trendDurations.count(j)/len(testData)\n",
    "\n",
    "def Z(trendDurations, j):\n",
    "    n = len(trendDurations)\n",
    "    sjSum = 0.0\n",
    "    tjSum = 0.0\n",
    "    \n",
    "    for i in range(j+1):\n",
    "        sjSum += trendDurations.count(i)\n",
    "        tjSum += n*ModelP(i)\n",
    "    \n",
    "        \n",
    "    return sjSum - tjSum\n",
    "\n",
    "def GeometricCramerVonMisesTest(trendDurations):\n",
    "    testScore = 0.0\n",
    "    n = len(trendDurations)\n",
    "    m = max(trendDurations)\n",
    "    for j in range(m+1):\n",
    "        testScore += pow(Z(trendDurations, j), 2) * ModelP(j)\n",
    "        \n",
    "    return testScore / n\n",
    "\n",
    "pValData = pandas.read_csv(\"testScoreToPValuePts.csv\")\n",
    "[testValue, pValue] = np.transpose(np.array(pValData)).tolist()\n",
    "pValueFunction = interpolate.interp1d(testValue, pValue)\n",
    "\n",
    "def GeometricCramerVonMisesPValue(trendDurations):\n",
    "    testStatistic = GeometricCramerVonMisesTest(trendDurations)\n",
    "    return float(pValueFunction(testStatistic))"
   ]
  },
  {
   "cell_type": "code",
   "execution_count": 152,
   "id": "gothic-graduation",
   "metadata": {},
   "outputs": [],
   "source": [
    "dates = GetDates(\"SP500/AAPL.csv\")"
   ]
  },
  {
   "cell_type": "code",
   "execution_count": 147,
   "id": "administrative-evening",
   "metadata": {},
   "outputs": [],
   "source": [
    "closePrices = GetPrices(\"SP500/AAPL.csv\")"
   ]
  },
  {
   "cell_type": "code",
   "execution_count": 156,
   "id": "architectural-humanity",
   "metadata": {},
   "outputs": [],
   "source": [
    "datedPrices = np.transpose([dates,closePrices])"
   ]
  },
  {
   "cell_type": "code",
   "execution_count": 199,
   "id": "italic-manual",
   "metadata": {},
   "outputs": [],
   "source": [
    "def IsNotNone(dataPoint):\n",
    "    return not dataPoint is None\n",
    "\n",
    "partitions = list(mit.windowed(datedPrices, n = 10, step = 10))\n",
    "partitions = [list(filter(IsNotNone, p)) for p in partitions]"
   ]
  },
  {
   "cell_type": "code",
   "execution_count": null,
   "id": "thousand-syndication",
   "metadata": {},
   "outputs": [],
   "source": []
  },
  {
   "cell_type": "code",
   "execution_count": 201,
   "id": "different-maintenance",
   "metadata": {},
   "outputs": [
    {
     "data": {
      "text/plain": [
       "[array(['2007-08-20', 4.364999771118164], dtype=object),\n",
       " array(['2007-08-21', 4.556070804595947], dtype=object),\n",
       " array(['2007-08-22', 4.732500076293945], dtype=object),\n",
       " array(['2007-08-23', 4.681070804595947], dtype=object),\n",
       " array(['2007-08-24', 4.83214282989502], dtype=object),\n",
       " array(['2007-08-27', 4.723214149475098], dtype=object),\n",
       " array(['2007-08-28', 4.529285907745361], dtype=object),\n",
       " array(['2007-08-29', 4.788570880889893], dtype=object),\n",
       " array(['2007-08-30', 4.866071224212647], dtype=object),\n",
       " array(['2007-08-31', 4.945713996887207], dtype=object)]"
      ]
     },
     "execution_count": 201,
     "metadata": {},
     "output_type": "execute_result"
    }
   ],
   "source": [
    "partitions[1]"
   ]
  },
  {
   "cell_type": "code",
   "execution_count": null,
   "id": "willing-entrepreneur",
   "metadata": {},
   "outputs": [],
   "source": []
  },
  {
   "cell_type": "code",
   "execution_count": 100,
   "id": "celtic-formula",
   "metadata": {},
   "outputs": [],
   "source": [
    "testData = TrendDuration(closePrices)"
   ]
  },
  {
   "cell_type": "code",
   "execution_count": 117,
   "id": "ready-removal",
   "metadata": {},
   "outputs": [
    {
     "data": {
      "text/plain": [
       "0.05405432215652909"
      ]
     },
     "execution_count": 117,
     "metadata": {},
     "output_type": "execute_result"
    }
   ],
   "source": [
    "GeometricCramerVonMisesTest(testData)"
   ]
  },
  {
   "cell_type": "code",
   "execution_count": 150,
   "id": "applied-flooring",
   "metadata": {},
   "outputs": [
    {
     "data": {
      "text/plain": [
       "0.7396563164034541"
      ]
     },
     "execution_count": 150,
     "metadata": {},
     "output_type": "execute_result"
    }
   ],
   "source": [
    "GeometricCramerVonMisesPValue(testData)"
   ]
  },
  {
   "cell_type": "code",
   "execution_count": null,
   "id": "included-circulation",
   "metadata": {},
   "outputs": [],
   "source": []
  }
 ],
 "metadata": {
  "kernelspec": {
   "display_name": "Python 3",
   "language": "python",
   "name": "python3"
  },
  "language_info": {
   "codemirror_mode": {
    "name": "ipython",
    "version": 3
   },
   "file_extension": ".py",
   "mimetype": "text/x-python",
   "name": "python",
   "nbconvert_exporter": "python",
   "pygments_lexer": "ipython3",
   "version": "3.9.2"
  }
 },
 "nbformat": 4,
 "nbformat_minor": 5
}
